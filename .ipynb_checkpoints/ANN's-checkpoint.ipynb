{
 "cells": [
  {
   "cell_type": "markdown",
   "id": "7b014df5",
   "metadata": {},
   "source": [
    "# ARTIFICIAL NUERAL NETWORKS"
   ]
  },
  {
   "cell_type": "code",
   "execution_count": 1,
   "id": "6f44cd22",
   "metadata": {},
   "outputs": [
    {
     "data": {
      "text/plain": [
       "'2.3.0'"
      ]
     },
     "execution_count": 1,
     "metadata": {},
     "output_type": "execute_result"
    }
   ],
   "source": [
    "import tensorflow as tf\n",
    "from tensorflow import keras\n",
    "tf.__version__\n"
   ]
  },
  {
   "cell_type": "code",
   "execution_count": 2,
   "id": "bc3271f5",
   "metadata": {},
   "outputs": [
    {
     "data": {
      "text/plain": [
       "'2.4.0'"
      ]
     },
     "execution_count": 2,
     "metadata": {},
     "output_type": "execute_result"
    }
   ],
   "source": [
    "keras.__version__"
   ]
  },
  {
   "cell_type": "code",
   "execution_count": 48,
   "id": "7ab6c032",
   "metadata": {},
   "outputs": [],
   "source": [
    "%matplotlib inline"
   ]
  },
  {
   "cell_type": "markdown",
   "id": "b843d5d0",
   "metadata": {},
   "source": [
    "# LOADING THE DATASETS\n",
    "<p1>Loading the in-built MNIST tensorflow dataset</p1><br><hr>"
   ]
  },
  {
   "cell_type": "code",
   "execution_count": 3,
   "id": "2e395cd9",
   "metadata": {},
   "outputs": [],
   "source": [
    "mnist=keras.datasets.mnist\n",
    "(X_train_full, y_train_full), (X_test, y_test) = mnist.load_data()"
   ]
  },
  {
   "cell_type": "markdown",
   "id": "2b1ebd63",
   "metadata": {},
   "source": [
    "<p1>Creating validation sets</p1>"
   ]
  },
  {
   "cell_type": "code",
   "execution_count": 4,
   "id": "3c1a3b1a",
   "metadata": {},
   "outputs": [],
   "source": [
    "X_valid, X_train = X_train_full[:5000] / 255.0, X_train_full[5000:] / 255.0\n",
    "y_valid, y_train = y_train_full[:5000], y_train_full[5000:]"
   ]
  },
  {
   "cell_type": "code",
   "execution_count": 5,
   "id": "6843c434",
   "metadata": {},
   "outputs": [
    {
     "data": {
      "text/plain": [
       "7"
      ]
     },
     "execution_count": 5,
     "metadata": {},
     "output_type": "execute_result"
    }
   ],
   "source": [
    "y_train[0]"
   ]
  },
  {
   "cell_type": "markdown",
   "id": "5e886059",
   "metadata": {},
   "source": [
    "<p1>Creating Class names</p1>"
   ]
  },
  {
   "cell_type": "code",
   "execution_count": 6,
   "id": "c363ad5a",
   "metadata": {},
   "outputs": [
    {
     "data": {
      "text/plain": [
       "'Seven'"
      ]
     },
     "execution_count": 6,
     "metadata": {},
     "output_type": "execute_result"
    }
   ],
   "source": [
    "class_names = [\"Zero\",\"One\", \"Two\", \"Three\", \"Four\", \"Five\",\"Six\", \"Seven\", \"Eight\", \"Nine\"]\n",
    "class_names[y_train[0]]"
   ]
  },
  {
   "cell_type": "markdown",
   "id": "333119a2",
   "metadata": {},
   "source": [
    "# Creating an actual artificial neural network"
   ]
  },
  {
   "cell_type": "code",
   "execution_count": 7,
   "id": "ce8aa8c1",
   "metadata": {},
   "outputs": [],
   "source": [
    "model = keras.models.Sequential([\n",
    "keras.layers.Flatten(input_shape=[28, 28]),\n",
    "keras.layers.Dense(300, activation=\"relu\"),\n",
    "keras.layers.Dense(100, activation=\"relu\"),\n",
    "keras.layers.Dense(10, activation=\"softmax\")\n",
    "])"
   ]
  },
  {
   "cell_type": "code",
   "execution_count": 8,
   "id": "2ebea93e",
   "metadata": {},
   "outputs": [
    {
     "name": "stdout",
     "output_type": "stream",
     "text": [
      "Model: \"sequential\"\n",
      "_________________________________________________________________\n",
      "Layer (type)                 Output Shape              Param #   \n",
      "=================================================================\n",
      "flatten (Flatten)            (None, 784)               0         \n",
      "_________________________________________________________________\n",
      "dense (Dense)                (None, 300)               235500    \n",
      "_________________________________________________________________\n",
      "dense_1 (Dense)              (None, 100)               30100     \n",
      "_________________________________________________________________\n",
      "dense_2 (Dense)              (None, 10)                1010      \n",
      "=================================================================\n",
      "Total params: 266,610\n",
      "Trainable params: 266,610\n",
      "Non-trainable params: 0\n",
      "_________________________________________________________________\n"
     ]
    }
   ],
   "source": [
    "model.summary()"
   ]
  },
  {
   "cell_type": "code",
   "execution_count": 9,
   "id": "9152b161",
   "metadata": {},
   "outputs": [
    {
     "data": {
      "text/plain": [
       "[<tensorflow.python.keras.layers.core.Flatten at 0x210d7714130>,\n",
       " <tensorflow.python.keras.layers.core.Dense at 0x210d7729a00>,\n",
       " <tensorflow.python.keras.layers.core.Dense at 0x210d7729d30>,\n",
       " <tensorflow.python.keras.layers.core.Dense at 0x210d7729f70>]"
      ]
     },
     "execution_count": 9,
     "metadata": {},
     "output_type": "execute_result"
    }
   ],
   "source": [
    "model.layers"
   ]
  },
  {
   "cell_type": "markdown",
   "id": "1dcc5db8",
   "metadata": {},
   "source": [
    "### Naming all the layers "
   ]
  },
  {
   "cell_type": "code",
   "execution_count": 10,
   "id": "79c76413",
   "metadata": {},
   "outputs": [
    {
     "data": {
      "text/plain": [
       "'dense'"
      ]
     },
     "execution_count": 10,
     "metadata": {},
     "output_type": "execute_result"
    }
   ],
   "source": [
    "model.layers[1].name"
   ]
  },
  {
   "cell_type": "code",
   "execution_count": 11,
   "id": "d4302984",
   "metadata": {},
   "outputs": [
    {
     "data": {
      "text/plain": [
       "'dense_1'"
      ]
     },
     "execution_count": 11,
     "metadata": {},
     "output_type": "execute_result"
    }
   ],
   "source": [
    "model.layers[2].name"
   ]
  },
  {
   "cell_type": "code",
   "execution_count": 12,
   "id": "1b2640ae",
   "metadata": {},
   "outputs": [
    {
     "data": {
      "text/plain": [
       "'dense_2'"
      ]
     },
     "execution_count": 12,
     "metadata": {},
     "output_type": "execute_result"
    }
   ],
   "source": [
    "model.layers[3].name"
   ]
  },
  {
   "cell_type": "code",
   "execution_count": 13,
   "id": "39ee5333",
   "metadata": {},
   "outputs": [],
   "source": [
    "import pydot"
   ]
  },
  {
   "cell_type": "code",
   "execution_count": 14,
   "id": "64b8c471",
   "metadata": {},
   "outputs": [
    {
     "data": {
      "image/png": "[encoded data removed]",
      "text/plain": [
       "<IPython.core.display.Image object>"
      ]
     },
     "execution_count": 14,
     "metadata": {},
     "output_type": "execute_result"
    }
   ],
   "source": [
    "keras.utils.plot_model(model)"
   ]
  },
  {
   "cell_type": "markdown",
   "id": "edaa631c",
   "metadata": {},
   "source": [
    "# Information about weights and biases"
   ]
  },
  {
   "cell_type": "code",
   "execution_count": 16,
   "id": "a3ed0b41",
   "metadata": {},
   "outputs": [],
   "source": [
    "weights, biases = model.layers[1].get_weights()"
   ]
  },
  {
   "cell_type": "code",
   "execution_count": 17,
   "id": "e44f7966",
   "metadata": {},
   "outputs": [
    {
     "data": {
      "text/plain": [
       "array([[-0.06578124, -0.05125482, -0.00451858, ..., -0.04748649,\n",
       "         0.00144432, -0.03927432],\n",
       "       [-0.02362489, -0.04932393,  0.00639497, ..., -0.0722834 ,\n",
       "        -0.0463317 , -0.05782803],\n",
       "       [-0.03742034,  0.01618464, -0.07237055, ..., -0.05248122,\n",
       "         0.04841013,  0.05705893],\n",
       "       ...,\n",
       "       [-0.01542118, -0.03387843, -0.01903197, ...,  0.05091144,\n",
       "         0.00866029, -0.05889758],\n",
       "       [ 0.06900609, -0.04996044, -0.01445903, ...,  0.04948407,\n",
       "        -0.06236921, -0.02199767],\n",
       "       [-0.05593375,  0.05279079, -0.04802707, ...,  0.06071134,\n",
       "        -0.06539407,  0.06295532]], dtype=float32)"
      ]
     },
     "execution_count": 17,
     "metadata": {},
     "output_type": "execute_result"
    }
   ],
   "source": [
    "weights"
   ]
  },
  {
   "cell_type": "code",
   "execution_count": 19,
   "id": "70241baf",
   "metadata": {},
   "outputs": [
    {
     "data": {
      "text/plain": [
       "(784, 300)"
      ]
     },
     "execution_count": 19,
     "metadata": {},
     "output_type": "execute_result"
    }
   ],
   "source": [
    "weights.shape"
   ]
  },
  {
   "cell_type": "code",
   "execution_count": 20,
   "id": "49c363a7",
   "metadata": {},
   "outputs": [
    {
     "data": {
      "text/plain": [
       "(300,)"
      ]
     },
     "execution_count": 20,
     "metadata": {},
     "output_type": "execute_result"
    }
   ],
   "source": [
    "biases.shape"
   ]
  },
  {
   "cell_type": "markdown",
   "id": "5c034aa7",
   "metadata": {},
   "source": [
    "# Compiling the model with a loss function and optimizer and an additional accuracy score"
   ]
  },
  {
   "cell_type": "code",
   "execution_count": 21,
   "id": "fc7c8de9",
   "metadata": {},
   "outputs": [],
   "source": [
    "model.compile(loss=\"sparse_categorical_crossentropy\",\n",
    "optimizer=\"sgd\",\n",
    "metrics=[\"accuracy\"])"
   ]
  },
  {
   "cell_type": "markdown",
   "id": "682739ad",
   "metadata": {},
   "source": [
    "# Fitting Data to our model"
   ]
  },
  {
   "cell_type": "code",
   "execution_count": 22,
   "id": "ea0ca8d1",
   "metadata": {},
   "outputs": [
    {
     "name": "stdout",
     "output_type": "stream",
     "text": [
      "Epoch 1/30\n",
      "1719/1719 [==============================] - 6s 4ms/step - loss: 0.6116 - accuracy: 0.8416 - val_loss: 0.3036 - val_accuracy: 0.9162\n",
      "Epoch 2/30\n",
      "1719/1719 [==============================] - 5s 3ms/step - loss: 0.2826 - accuracy: 0.9184 - val_loss: 0.2361 - val_accuracy: 0.9342\n",
      "Epoch 3/30\n",
      "1719/1719 [==============================] - 5s 3ms/step - loss: 0.2294 - accuracy: 0.9342 - val_loss: 0.1995 - val_accuracy: 0.9450\n",
      "Epoch 4/30\n",
      "1719/1719 [==============================] - 6s 3ms/step - loss: 0.1947 - accuracy: 0.9448 - val_loss: 0.1715 - val_accuracy: 0.9524\n",
      "Epoch 5/30\n",
      "1719/1719 [==============================] - 6s 3ms/step - loss: 0.1702 - accuracy: 0.9517 - val_loss: 0.1554 - val_accuracy: 0.9582\n",
      "Epoch 6/30\n",
      "1719/1719 [==============================] - 5s 3ms/step - loss: 0.1513 - accuracy: 0.9570 - val_loss: 0.1416 - val_accuracy: 0.9622\n",
      "Epoch 7/30\n",
      "1719/1719 [==============================] - 6s 4ms/step - loss: 0.1358 - accuracy: 0.9615 - val_loss: 0.1315 - val_accuracy: 0.9654\n",
      "Epoch 8/30\n",
      "1719/1719 [==============================] - 6s 4ms/step - loss: 0.1229 - accuracy: 0.9651 - val_loss: 0.1225 - val_accuracy: 0.9660\n",
      "Epoch 9/30\n",
      "1719/1719 [==============================] - 6s 4ms/step - loss: 0.1125 - accuracy: 0.9683 - val_loss: 0.1136 - val_accuracy: 0.9690\n",
      "Epoch 10/30\n",
      "1719/1719 [==============================] - 6s 4ms/step - loss: 0.1036 - accuracy: 0.9708 - val_loss: 0.1090 - val_accuracy: 0.9690\n",
      "Epoch 11/30\n",
      "1719/1719 [==============================] - 6s 4ms/step - loss: 0.0953 - accuracy: 0.9731 - val_loss: 0.1044 - val_accuracy: 0.9724\n",
      "Epoch 12/30\n",
      "1719/1719 [==============================] - 6s 4ms/step - loss: 0.0881 - accuracy: 0.9751 - val_loss: 0.0988 - val_accuracy: 0.9742\n",
      "Epoch 13/30\n",
      "1719/1719 [==============================] - 6s 4ms/step - loss: 0.0817 - accuracy: 0.9770 - val_loss: 0.0946 - val_accuracy: 0.9730\n",
      "Epoch 14/30\n",
      "1719/1719 [==============================] - 6s 4ms/step - loss: 0.0765 - accuracy: 0.9787 - val_loss: 0.0917 - val_accuracy: 0.9758\n",
      "Epoch 15/30\n",
      "1719/1719 [==============================] - 6s 4ms/step - loss: 0.0712 - accuracy: 0.9800 - val_loss: 0.0929 - val_accuracy: 0.9728\n",
      "Epoch 16/30\n",
      "1719/1719 [==============================] - 6s 4ms/step - loss: 0.0666 - accuracy: 0.9814 - val_loss: 0.0858 - val_accuracy: 0.9768\n",
      "Epoch 17/30\n",
      "1719/1719 [==============================] - 6s 4ms/step - loss: 0.0624 - accuracy: 0.9827 - val_loss: 0.0849 - val_accuracy: 0.9756\n",
      "Epoch 18/30\n",
      "1719/1719 [==============================] - 6s 3ms/step - loss: 0.0584 - accuracy: 0.9839 - val_loss: 0.0818 - val_accuracy: 0.9766\n",
      "Epoch 19/30\n",
      "1719/1719 [==============================] - 6s 4ms/step - loss: 0.0550 - accuracy: 0.9847 - val_loss: 0.0787 - val_accuracy: 0.9764\n",
      "Epoch 20/30\n",
      "1719/1719 [==============================] - 4s 3ms/step - loss: 0.0517 - accuracy: 0.9861 - val_loss: 0.0777 - val_accuracy: 0.9782\n",
      "Epoch 21/30\n",
      "1719/1719 [==============================] - 6s 4ms/step - loss: 0.0485 - accuracy: 0.9869 - val_loss: 0.0767 - val_accuracy: 0.9768\n",
      "Epoch 22/30\n",
      "1719/1719 [==============================] - 7s 4ms/step - loss: 0.0458 - accuracy: 0.9882 - val_loss: 0.0798 - val_accuracy: 0.9764\n",
      "Epoch 23/30\n",
      "1719/1719 [==============================] - 6s 4ms/step - loss: 0.0431 - accuracy: 0.9890 - val_loss: 0.0740 - val_accuracy: 0.9796\n",
      "Epoch 24/30\n",
      "1719/1719 [==============================] - 6s 3ms/step - loss: 0.0405 - accuracy: 0.9899 - val_loss: 0.0730 - val_accuracy: 0.9790\n",
      "Epoch 25/30\n",
      "1719/1719 [==============================] - 6s 3ms/step - loss: 0.0383 - accuracy: 0.9903 - val_loss: 0.0733 - val_accuracy: 0.9782\n",
      "Epoch 26/30\n",
      "1719/1719 [==============================] - 6s 4ms/step - loss: 0.0358 - accuracy: 0.9913 - val_loss: 0.0738 - val_accuracy: 0.9784\n",
      "Epoch 27/30\n",
      "1719/1719 [==============================] - 6s 4ms/step - loss: 0.0339 - accuracy: 0.9919 - val_loss: 0.0708 - val_accuracy: 0.9812\n",
      "Epoch 28/30\n",
      "1719/1719 [==============================] - 6s 3ms/step - loss: 0.0321 - accuracy: 0.9924 - val_loss: 0.0687 - val_accuracy: 0.9808\n",
      "Epoch 29/30\n",
      "1719/1719 [==============================] - 6s 3ms/step - loss: 0.0303 - accuracy: 0.9930 - val_loss: 0.0713 - val_accuracy: 0.9792\n",
      "Epoch 30/30\n",
      "1719/1719 [==============================] - 6s 4ms/step - loss: 0.0287 - accuracy: 0.9934 - val_loss: 0.0707 - val_accuracy: 0.9816\n"
     ]
    }
   ],
   "source": [
    "history = model.fit(X_train, y_train, epochs=30,validation_data=(X_valid, y_valid))"
   ]
  },
  {
   "cell_type": "code",
   "execution_count": 26,
   "id": "5ec93a86",
   "metadata": {},
   "outputs": [
    {
     "data": {
      "image/png": "[encoded data removed]",
      "text/plain": [
       "<Figure size 576x360 with 1 Axes>"
      ]
     },
     "metadata": {
      "needs_background": "light"
     },
     "output_type": "display_data"
    }
   ],
   "source": [
    "import pandas as pd\n",
    "import matplotlib.pyplot as plt\n",
    "pd.DataFrame(history.history).plot(figsize=(8, 5))\n",
    "plt.grid(True)\n",
    "plt.gca().set_ylim(0, 1) \n",
    "plt.show()"
   ]
  },
  {
   "cell_type": "markdown",
   "id": "43154c91",
   "metadata": {},
   "source": [
    "# Evaluating our model"
   ]
  },
  {
   "cell_type": "code",
   "execution_count": 27,
   "id": "10e1dd73",
   "metadata": {},
   "outputs": [
    {
     "name": "stdout",
     "output_type": "stream",
     "text": [
      "313/313 [==============================] - 1s 3ms/step - loss: 13.8654 - accuracy: 0.9739\n"
     ]
    },
    {
     "data": {
      "text/plain": [
       "[13.865413665771484, 0.9739000201225281]"
      ]
     },
     "execution_count": 27,
     "metadata": {},
     "output_type": "execute_result"
    }
   ],
   "source": [
    "model.evaluate(X_test, y_test)"
   ]
  },
  {
   "cell_type": "markdown",
   "id": "e2ac9779",
   "metadata": {},
   "source": [
    "# Probabilities of class predictions"
   ]
  },
  {
   "cell_type": "code",
   "execution_count": 28,
   "id": "d666995e",
   "metadata": {},
   "outputs": [
    {
     "data": {
      "text/plain": [
       "array([[0., 0., 0., 0., 0., 0., 0., 1., 0., 0.],\n",
       "       [0., 0., 1., 0., 0., 0., 0., 0., 0., 0.],\n",
       "       [0., 1., 0., 0., 0., 0., 0., 0., 0., 0.]], dtype=float32)"
      ]
     },
     "execution_count": 28,
     "metadata": {},
     "output_type": "execute_result"
    }
   ],
   "source": [
    "X_new = X_test[:3]\n",
    "y_proba = model.predict(X_new)\n",
    "y_proba.round(2)"
   ]
  },
  {
   "cell_type": "markdown",
   "id": "90343158",
   "metadata": {},
   "source": [
    "# Making actual predictions"
   ]
  },
  {
   "cell_type": "code",
   "execution_count": 29,
   "id": "cdc39519",
   "metadata": {},
   "outputs": [
    {
     "name": "stdout",
     "output_type": "stream",
     "text": [
      "WARNING:tensorflow:From <ipython-input-29-53f3df9ca645>:1: Sequential.predict_classes (from tensorflow.python.keras.engine.sequential) is deprecated and will be removed after 2021-01-01.\n",
      "Instructions for updating:\n",
      "Please use instead:* `np.argmax(model.predict(x), axis=-1)`,   if your model does multi-class classification   (e.g. if it uses a `softmax` last-layer activation).* `(model.predict(x) > 0.5).astype(\"int32\")`,   if your model does binary classification   (e.g. if it uses a `sigmoid` last-layer activation).\n"
     ]
    }
   ],
   "source": [
    "y_pred = model.predict_classes(X_new)"
   ]
  },
  {
   "cell_type": "code",
   "execution_count": 32,
   "id": "8b2270b5",
   "metadata": {},
   "outputs": [
    {
     "data": {
      "text/plain": [
       "array(['Seven', 'Two', 'One'], dtype='<U5')"
      ]
     },
     "execution_count": 32,
     "metadata": {},
     "output_type": "execute_result"
    }
   ],
   "source": [
    "np.array(class_names)[y_pred]"
   ]
  },
  {
   "cell_type": "code",
   "execution_count": 40,
   "id": "281c12c8",
   "metadata": {},
   "outputs": [
    {
     "data": {
      "text/plain": [
       "array(['Seven', 'Two', 'One'], dtype='<U5')"
      ]
     },
     "execution_count": 40,
     "metadata": {},
     "output_type": "execute_result"
    }
   ],
   "source": [
    "import numpy as np\n",
    "np.array(class_names)[y_test[0:3]]"
   ]
  },
  {
   "cell_type": "markdown",
   "id": "1819546e",
   "metadata": {},
   "source": [
    "<p>Therefore it correctly classified three images from the test set</p>"
   ]
  },
  {
   "cell_type": "code",
   "execution_count": 43,
   "id": "13998524",
   "metadata": {},
   "outputs": [
    {
     "data": {
      "text/plain": [
       "(28, 28)"
      ]
     },
     "execution_count": 43,
     "metadata": {},
     "output_type": "execute_result"
    }
   ],
   "source": [
    "X_test[0]."
   ]
  },
  {
   "cell_type": "markdown",
   "id": "2364497b",
   "metadata": {},
   "source": [
    "# Displaying pictures from Test set"
   ]
  },
  {
   "cell_type": "code",
   "execution_count": 44,
   "id": "64f1b9ed",
   "metadata": {},
   "outputs": [],
   "source": [
    "from PIL import Image"
   ]
  },
  {
   "cell_type": "code",
   "execution_count": 50,
   "id": "37de22cd",
   "metadata": {},
   "outputs": [],
   "source": [
    "img = Image.fromarray(X_test[0])\n"
   ]
  },
  {
   "cell_type": "code",
   "execution_count": 51,
   "id": "f52547e6",
   "metadata": {},
   "outputs": [],
   "source": [
    "from matplotlib.pyplot import imshow"
   ]
  },
  {
   "cell_type": "code",
   "execution_count": 52,
   "id": "c652c1b0",
   "metadata": {},
   "outputs": [
    {
     "data": {
      "text/plain": [
       "<matplotlib.image.AxesImage at 0x210f26d0a30>"
      ]
     },
     "execution_count": 52,
     "metadata": {},
     "output_type": "execute_result"
    },
    {
     "data": {
      "image/png": "[encoded data removed]",
      "text/plain": [
       "<Figure size 432x288 with 1 Axes>"
      ]
     },
     "metadata": {
      "needs_background": "light"
     },
     "output_type": "display_data"
    }
   ],
   "source": [
    "imshow(np.asarray(img))"
   ]
  },
  {
   "cell_type": "code",
   "execution_count": 56,
   "id": "b5ab3a39",
   "metadata": {},
   "outputs": [
    {
     "data": {
      "text/plain": [
       "'Seven'"
      ]
     },
     "execution_count": 56,
     "metadata": {},
     "output_type": "execute_result"
    }
   ],
   "source": [
    "np.array(class_names)[y_pred[0]]"
   ]
  },
  {
   "cell_type": "code",
   "execution_count": 53,
   "id": "452acc78",
   "metadata": {},
   "outputs": [
    {
     "data": {
      "text/plain": [
       "<matplotlib.image.AxesImage at 0x210f2733310>"
      ]
     },
     "execution_count": 53,
     "metadata": {},
     "output_type": "execute_result"
    },
    {
     "data": {
      "image/png": "[encoded data removed]",
      "text/plain": [
       "<Figure size 432x288 with 1 Axes>"
      ]
     },
     "metadata": {
      "needs_background": "light"
     },
     "output_type": "display_data"
    }
   ],
   "source": [
    "img = Image.fromarray(X_test[1])\n",
    "imshow(np.asarray(img))"
   ]
  },
  {
   "cell_type": "code",
   "execution_count": 55,
   "id": "c6ba5284",
   "metadata": {},
   "outputs": [
    {
     "data": {
      "text/plain": [
       "'Two'"
      ]
     },
     "execution_count": 55,
     "metadata": {},
     "output_type": "execute_result"
    }
   ],
   "source": [
    "np.array(class_names)[y_pred[1]]"
   ]
  },
  {
   "cell_type": "code",
   "execution_count": 54,
   "id": "2955ce2f",
   "metadata": {},
   "outputs": [
    {
     "data": {
      "text/plain": [
       "<matplotlib.image.AxesImage at 0x210f277fa30>"
      ]
     },
     "execution_count": 54,
     "metadata": {},
     "output_type": "execute_result"
    },
    {
     "data": {
      "image/png": "[encoded data removed]",
      "text/plain": [
       "<Figure size 432x288 with 1 Axes>"
      ]
     },
     "metadata": {
      "needs_background": "light"
     },
     "output_type": "display_data"
    }
   ],
   "source": [
    "img = Image.fromarray(X_test[2])\n",
    "imshow(np.asarray(img))"
   ]
  },
  {
   "cell_type": "code",
   "execution_count": 57,
   "id": "13b4a27f",
   "metadata": {},
   "outputs": [
    {
     "data": {
      "text/plain": [
       "'One'"
      ]
     },
     "execution_count": 57,
     "metadata": {},
     "output_type": "execute_result"
    }
   ],
   "source": [
    "np.array(class_names)[y_pred[2]]"
   ]
  },
  {
   "cell_type": "markdown",
   "id": "ace5d864",
   "metadata": {},
   "source": [
    "# As you can see the models predictions are pretty convincing"
   ]
  },
  {
   "cell_type": "markdown",
   "id": "07847de0",
   "metadata": {},
   "source": [
    "# Thank You"
   ]
  }
 ],
 "metadata": {
  "kernelspec": {
   "display_name": "Python 3",
   "language": "python",
   "name": "python3"
  },
  "language_info": {
   "codemirror_mode": {
    "name": "ipython",
    "version": 3
   },
   "file_extension": ".py",
   "mimetype": "text/x-python",
   "name": "python",
   "nbconvert_exporter": "python",
   "pygments_lexer": "ipython3",
   "version": "3.8.8"
  }
 },
 "nbformat": 4,
 "nbformat_minor": 5
}
